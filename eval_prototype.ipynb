{
 "cells": [
  {
   "cell_type": "code",
   "execution_count": 1,
   "metadata": {},
   "outputs": [],
   "source": [
    "import src.generation.gamma as ga\n",
    "import src.generation.multivariate_normal as mn\n",
    "\n",
    "from src.salp.salp import SALP\n",
    "from src.salp.salp import Node\n",
    "\n",
    "from src.algorithms.round_robin import RoundRobin\n",
    "from src.algorithms.best_fit import BestFit\n",
    "\n",
    "import numpy as np\n",
    "import matplotlib.pyplot as plt"
   ]
  },
  {
   "cell_type": "code",
   "execution_count": 2,
   "metadata": {},
   "outputs": [],
   "source": [
    "# funkcja do produkowania wykresów obciążenia węzłów\n",
    "\n",
    "def plot_node_load(n: Node, estimated_node_load: float = None, actual_mean_node_load: float = None, node_power: float = None):\n",
    "    size = n.ws.size\n",
    "    plt.bar(\n",
    "        np.arange(size),\n",
    "        n.ws\n",
    "    )\n",
    "    plt.title(\"Node {}\".format(n.identity))\n",
    "    if estimated_node_load:\n",
    "        plt.hlines(estimated_node_load, xmin=0-1, xmax=size, colors='r')\n",
    "    if actual_mean_node_load:\n",
    "        plt.hlines(actual_mean_node_load, xmin=0-1, xmax=size, colors='g', linestyle='dashed')\n",
    "    if node_power:\n",
    "        plt.hlines(node_power, xmin=0-1, xmax=size, colors='orange')\n",
    "    plt.show()"
   ]
  },
  {
   "cell_type": "code",
   "execution_count": 3,
   "metadata": {},
   "outputs": [],
   "source": [
    "from typing import List\n",
    "\n",
    "def calculate_total_node_queueing_time(n: Node, power: float) -> float:\n",
    "    stb = np.mean(n.ws)/power\n",
    "    assert stb < 1, \"Node {} is not stable\".format(n.identity)\n",
    "    coeff = stb/(1-stb)\n",
    "    return coeff * np.sum(n.ws)\n",
    "    \n",
    "def calculate_all_nodes_queueing_time(nodes: List[Node], power: float) -> float:\n",
    "    total_ct = 0\n",
    "    for n in nodes:\n",
    "        ct = calculate_total_node_queueing_time(n, node_power)\n",
    "        total_ct += ct\n",
    "    return total_ct"
   ]
  },
  {
   "cell_type": "code",
   "execution_count": 4,
   "metadata": {},
   "outputs": [],
   "source": [
    "# TODO algorithms\n",
    "# SALP\n",
    "def salp_wrapper(N: int, load_vectors):\n",
    "    return SALP(N, load_vectors, False)\n",
    "# Best Fit\n",
    "def bf_wrapper(N: int, load_vectors):\n",
    "    return None\n",
    "# Round robin\n",
    "def rr_wrapper(N: int, load_vectors):\n",
    "    return RoundRobin(N, load_vectors, False)\n",
    "\n",
    "algorithms = [\n",
    "    ('SALP', salp_wrapper),\n",
    "    ('BF', bf_wrapper),\n",
    "    ('RR', rr_wrapper),\n",
    "]"
   ]
  },
  {
   "cell_type": "markdown",
   "metadata": {},
   "source": [
    "## Example pipeline"
   ]
  },
  {
   "cell_type": "code",
   "execution_count": 5,
   "metadata": {},
   "outputs": [
    {
     "name": "stdout",
     "output_type": "stream",
     "text": [
      "Estimated minimal node power 30.0\n",
      "Node power 37.5\n",
      "Actual mean node load 30.973703544964387\n",
      "-----------------------\n",
      "Node 0: 0.7581467809983301 891.2221799921979\n"
     ]
    },
    {
     "data": {
      "image/png": "[encoded data removed]",
      "text/plain": [
       "<Figure size 432x288 with 1 Axes>"
      ]
     },
     "metadata": {
      "needs_background": "light"
     },
     "output_type": "display_data"
    },
    {
     "name": "stdout",
     "output_type": "stream",
     "text": [
      "Node 1: 0.8497393049165273 1802.010380822409\n"
     ]
    },
    {
     "data": {
      "image/png": "[encoded data removed]",
      "text/plain": [
       "<Figure size 432x288 with 1 Axes>"
      ]
     },
     "metadata": {
      "needs_background": "light"
     },
     "output_type": "display_data"
    },
    {
     "name": "stdout",
     "output_type": "stream",
     "text": [
      "Node 2: 0.8166611658978215 1364.1452378698423\n"
     ]
    },
    {
     "data": {
      "image/png": "[encoded data removed]",
      "text/plain": [
       "<Figure size 432x288 with 1 Axes>"
      ]
     },
     "metadata": {
      "needs_background": "light"
     },
     "output_type": "display_data"
    },
    {
     "name": "stdout",
     "output_type": "stream",
     "text": [
      "Node 3: 0.8793144596501895 2402.5058740739983\n"
     ]
    },
    {
     "data": {
      "image/png": "[encoded data removed]",
      "text/plain": [
       "<Figure size 432x288 with 1 Axes>"
      ]
     },
     "metadata": {
      "needs_background": "light"
     },
     "output_type": "display_data"
    }
   ],
   "source": [
    "def pipeline(F: int, N: int, size: int, cor: float, ro: float, rng = (2,4)):\n",
    "    \n",
    "    generator = ga.Generator(F, size, cor, rng)\n",
    "    \n",
    "    estimated_load = generator.get_estimated_cloud_load()\n",
    "    estimated_node_load = estimated_load/size/N\n",
    "    print(\"Estimated minimal node power\", estimated_node_load)\n",
    "    \n",
    "    node_power = estimated_node_load/ro\n",
    "    print(\"Node power\", node_power)\n",
    "    \n",
    "    load_vectors = generator.generate_cloud_load_vectors()\n",
    "    actual_mean_node_load = np.sum(load_vectors)/size/N\n",
    "    print(\"Actual mean node load\", actual_mean_node_load)\n",
    "    \n",
    "    cloud = SALP(N, load_vectors, False)\n",
    "    assert len(cloud.nodes) == N\n",
    "    \n",
    "    print('-----------------------')\n",
    "    \n",
    "    for n in cloud.nodes:\n",
    "        ct = calculate_total_node_queueing_time(n, node_power)\n",
    "        print(\"Node {}:\".format(n.identity), np.mean(n.ws)/node_power, ct)\n",
    "        plot_node_load(n,estimated_node_load,actual_mean_node_load, node_power)\n",
    "    \n",
    "    \n",
    "pipeline(20, 4, 10, 0.5, 0.8)"
   ]
  },
  {
   "cell_type": "markdown",
   "metadata": {},
   "source": [
    "### Walidacja SALP"
   ]
  },
  {
   "cell_type": "code",
   "execution_count": 6,
   "metadata": {},
   "outputs": [
    {
     "name": "stdout",
     "output_type": "stream",
     "text": [
      "----------------DESCRIPTION----------------\n",
      "Shards:\n",
      "[[3 1]\n",
      " [3 1]\n",
      " [3 1]\n",
      " [1 3]\n",
      " [1 3]\n",
      " [1 3]]\n",
      "\n",
      "WTS:\n",
      "[12 12]\n",
      "\n",
      "NWTS:\n",
      "[6. 6.]\n",
      "\n",
      "LW:\n",
      "[(0, 3.1622776601683795), (1, 3.1622776601683795), (2, 3.1622776601683795), (3, 3.1622776601683795), (4, 3.1622776601683795), (5, 3.1622776601683795)]\n",
      "\n",
      "\n",
      "----------------ASSIGNMENT----------------\n",
      "Shard ID: 0\n",
      "Shard: [3 1]\n",
      "\n",
      "\tNode ID: 0\n",
      "\tDelta: 2.654329479393269\n",
      "\n",
      "\tNode ID: 1\n",
      "\tDelta: 2.654329479393269\n",
      "\n",
      "Shard ID: 1\n",
      "Shard: [3 1]\n",
      "\n",
      "\tNode ID: 0\n",
      "\tDelta: 1.8309518948453007\n",
      "\n",
      "\tNode ID: 1\n",
      "\tDelta: 2.654329479393269\n",
      "\n",
      "Shard ID: 2\n",
      "Shard: [3 1]\n",
      "\n",
      "\tNode ID: 0\n",
      "\tDelta: 1.8309518948453007\n",
      "\n",
      "\tNode ID: 1\n",
      "\tDelta: 1.8309518948453007\n",
      "\n",
      "Shard ID: 3\n",
      "Shard: [1 3]\n",
      "\n",
      "\tNode ID: 0\n",
      "\tDelta: 2.585786437626905\n",
      "\n",
      "\tNode ID: 1\n",
      "\tDelta: 3.0025247700991105\n",
      "\n",
      "Shard ID: 4\n",
      "Shard: [1 3]\n",
      "\n",
      "\tNode ID: 0\n",
      "\tDelta: 2.585786437626905\n",
      "\n",
      "\tNode ID: 1\n",
      "\tDelta: 1.4142135623730951\n",
      "\n",
      "Shard ID: 5\n",
      "Shard: [1 3]\n",
      "\n",
      "\tNode ID: 1\n",
      "\tDelta: 1.4142135623730951\n",
      "\n",
      "----------------FINAL NODES----------------\n",
      "Node: 0\n",
      "\tShards assigned [FS]: [0 2 4]\n",
      "\tLoad of node [WS]: [7. 5.]\n",
      "\n",
      "Node: 1\n",
      "\tShards assigned [FS]: [1 3 5]\n",
      "\tLoad of node [WS]: [5. 7.]\n",
      "\n",
      "Node 0: 1.0\n"
     ]
    },
    {
     "data": {
      "image/png": "[encoded data removed]",
      "text/plain": [
       "<Figure size 432x288 with 1 Axes>"
      ]
     },
     "metadata": {
      "needs_background": "light"
     },
     "output_type": "display_data"
    },
    {
     "name": "stdout",
     "output_type": "stream",
     "text": [
      "Node 1: 1.0\n"
     ]
    },
    {
     "data": {
      "image/png": "[encoded data removed]",
      "text/plain": [
       "<Figure size 432x288 with 1 Axes>"
      ]
     },
     "metadata": {
      "needs_background": "light"
     },
     "output_type": "display_data"
    }
   ],
   "source": [
    "N = 2 # try with n=3 <3\n",
    "size = 2\n",
    "instance = np.array([[3,1],[3,1],[3,1],[1,3],[1,3],[1,3]])\n",
    "cloud = SALP(N,instance, True)\n",
    "load = np.sum(instance)\n",
    "mean_node_load = load/N/size\n",
    "\n",
    "for n in cloud.nodes:\n",
    "    # stabilność\n",
    "    print(\"Node {}:\".format(n.identity), np.mean(n.ws)/mean_node_load)\n",
    "    plot_node_load(n, mean_node_load)"
   ]
  },
  {
   "cell_type": "markdown",
   "metadata": {},
   "source": [
    "### Walidacja RR"
   ]
  },
  {
   "cell_type": "code",
   "execution_count": 7,
   "metadata": {},
   "outputs": [
    {
     "name": "stdout",
     "output_type": "stream",
     "text": [
      "Shard 0 [3 1] to Node 0 node lw [3. 1.]\n",
      "Shard 1 [3 1] to Node 1 node lw [3. 1.]\n",
      "Shard 2 [3 1] to Node 0 node lw [6. 2.]\n",
      "Shard 3 [1 3] to Node 1 node lw [4. 4.]\n",
      "Shard 4 [1 3] to Node 0 node lw [7. 5.]\n",
      "Shard 5 [1 3] to Node 1 node lw [5. 7.]\n",
      "Node 0: 1.0\n"
     ]
    },
    {
     "data": {
      "image/png": "[encoded data removed]",
      "text/plain": [
       "<Figure size 432x288 with 1 Axes>"
      ]
     },
     "metadata": {
      "needs_background": "light"
     },
     "output_type": "display_data"
    },
    {
     "name": "stdout",
     "output_type": "stream",
     "text": [
      "Node 1: 1.0\n"
     ]
    },
    {
     "data": {
      "image/png": "[encoded data removed]",
      "text/plain": [
       "<Figure size 432x288 with 1 Axes>"
      ]
     },
     "metadata": {
      "needs_background": "light"
     },
     "output_type": "display_data"
    }
   ],
   "source": [
    "N = 2 # try with n=3 <3\n",
    "size = 2\n",
    "instance = np.array([[3,1],[3,1],[3,1],[1,3],[1,3],[1,3]])\n",
    "cloud = RoundRobin(N,instance, True)\n",
    "load = np.sum(instance)\n",
    "mean_node_load = load/N/size\n",
    "\n",
    "for n in cloud.nodes:\n",
    "    # stabilność\n",
    "    print(\"Node {}:\".format(n.identity), np.mean(n.ws)/mean_node_load)\n",
    "    plot_node_load(n, mean_node_load)"
   ]
  },
  {
   "cell_type": "markdown",
   "metadata": {},
   "source": [
    "### Walidacja Best Fit"
   ]
  },
  {
   "cell_type": "raw",
   "metadata": {},
   "source": [
    "N = 2 # try with n=3 <3\n",
    "size = 2\n",
    "instance = np.array([[3,1],[3,1],[3,1],[1,3],[1,3],[1,3]])\n",
    "cloud = BestFit(N,instance, True)\n",
    "load = np.sum(instance)\n",
    "mean_node_load = load/N/size\n",
    "\n",
    "for n in cloud.nodes:\n",
    "    # stabilność\n",
    "    print(\"Node {}:\".format(n.identity), np.mean(n.ws)/mean_node_load)\n",
    "    plot_node_load(n, mean_node_load)"
   ]
  },
  {
   "cell_type": "code",
   "execution_count": 21,
   "metadata": {},
   "outputs": [
    {
     "name": "stdout",
     "output_type": "stream",
     "text": [
      "6.0\n",
      "[(0, 2.0), (1, 2.0), (2, 2.0), (3, 2.0), (4, 2.0), (5, 2.0)]\n",
      "all asigned\n",
      "Node 0: 1.0\n"
     ]
    },
    {
     "data": {
      "image/png": "[encoded data removed]",
      "text/plain": [
       "<Figure size 432x288 with 1 Axes>"
      ]
     },
     "metadata": {
      "needs_background": "light"
     },
     "output_type": "display_data"
    },
    {
     "name": "stdout",
     "output_type": "stream",
     "text": [
      "Node 1: 1.0\n"
     ]
    },
    {
     "data": {
      "image/png": "[encoded data removed]",
      "text/plain": [
       "<Figure size 432x288 with 1 Axes>"
      ]
     },
     "metadata": {
      "needs_background": "light"
     },
     "output_type": "display_data"
    }
   ],
   "source": [
    "def best_fit2(n: int, shards: np.ndarray):\n",
    "    \n",
    "    node_mean_load = np.sum(shards) / n / shards.shape[1]\n",
    "    print(node_mean_load)\n",
    "    \n",
    "    nodes = [Node(e) for e in range(0, n)]\n",
    "    ss = [(i, v) for i, v in enumerate(np.mean(shards, axis=1)) ]\n",
    "    ss.sort(key=lambda x: x[1], reverse=True)\n",
    "    usd = [False for _ in range(len(ss))]\n",
    "    print(ss)\n",
    "    \n",
    "    tolerance = node_mean_load * 0.1 # zakładamy, ze node może zostać przepełniony o 10%\n",
    "    for node in nodes:\n",
    "        for i, m in ss:\n",
    "            if usd[i]:\n",
    "                continue\n",
    "            nl = np.mean(node.ws)\n",
    "            if nl + m < node_mean_load + tolerance:\n",
    "                node.shard_append(i, shards[i])\n",
    "                usd[i] = True\n",
    "            if all(usd):\n",
    "                print(\"all asigned\")\n",
    "                break\n",
    "    if not all(usd):\n",
    "        print(\"Error\")\n",
    "        # TODO assign remaining nodes with first fit\n",
    "    return nodes\n",
    "\n",
    "N = 2\n",
    "size = 2\n",
    "instance = np.array([[3,1],[3,1],[3,1],[1,3],[1,3],[1,3]])\n",
    "mean_node_load = load/N/size\n",
    "nds = best_fit2(N, instance)\n",
    "\n",
    "for n in nds:\n",
    "    print(\"Node {}:\".format(n.identity), np.mean(n.ws)/mean_node_load)\n",
    "    plot_node_load(n, mean_node_load)"
   ]
  },
  {
   "cell_type": "markdown",
   "metadata": {},
   "source": [
    "# Parametry dla iteracji\n",
    "* F - ilość shardów\n",
    "* N - ilość węzłów\n",
    "* cor - poziom korelacji miedzy wektorami obciążenia\n",
    "* ro - poziom obciążenia chmury\n",
    "* size - długość wektorów obciążenia\n",
    "* repeats - ilość powtórzeń pojedynczej symulacji\n",
    "* parametry generatora do ustalenia"
   ]
  },
  {
   "cell_type": "code",
   "execution_count": null,
   "metadata": {},
   "outputs": [],
   "source": [
    "N = 100\n",
    "F = 10*N\n",
    "cor_range = np.arange(0.0, 1.01, 0.5)\n",
    "load_range = [0.8, 0.9]\n",
    "size=100\n",
    "repeats=5\n",
    "rng = (2,4)"
   ]
  },
  {
   "cell_type": "code",
   "execution_count": null,
   "metadata": {},
   "outputs": [],
   "source": [
    "for cor in cor_range:\n",
    "    \n",
    "    generator = ga.Generator(F, size, cor, rng)\n",
    "    \n",
    "    estimated_load = generator.get_estimated_cloud_load()\n",
    "    estimated_node_load = estimated_load/size/N\n",
    "    print(\"Estimated node load\", estimated_node_load)\n",
    "    \n",
    "    for ro in load_range:\n",
    "        \n",
    "        node_power = estimated_node_load/ro\n",
    "        \n",
    "        for _ in range(repeats):\n",
    "            \n",
    "            load_vectors = generator.generate_cloud_load_vectors()\n",
    "#             actual_mean_node_load = np.sum(load_vectors)/size/N\n",
    "#             print(\"Actual mean node load\", actual_mean_node_load)\n",
    "            \n",
    "            # TODO test all algorithms here\n",
    "            cloud = SALP(N, load_vectors, False)\n",
    "            total_ct = calculate_all_nodes_queueing_time(cloud.nodes, node_power)\n",
    "            \n",
    "            print(cor, ro, total_ct)"
   ]
  }
 ],
 "metadata": {
  "kernelspec": {
   "display_name": "Python 3",
   "language": "python",
   "name": "python3"
  },
  "language_info": {
   "codemirror_mode": {
    "name": "ipython",
    "version": 3
   },
   "file_extension": ".py",
   "mimetype": "text/x-python",
   "name": "python",
   "nbconvert_exporter": "python",
   "pygments_lexer": "ipython3",
   "version": "3.8.6"
  }
 },
 "nbformat": 4,
 "nbformat_minor": 4
}
