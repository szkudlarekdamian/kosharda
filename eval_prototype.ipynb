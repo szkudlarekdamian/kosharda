{
 "cells": [
  {
   "cell_type": "code",
   "execution_count": 1,
   "metadata": {},
   "outputs": [],
   "source": [
    "import src.generation.gamma as ga\n",
    "import src.generation.multivariate_normal as mn\n",
    "\n",
    "from src.salp.salp import SALP\n",
    "from src.salp.salp import Node\n",
    "\n",
    "from src.algorithms.round_robin import RoundRobin\n",
    "from src.algorithms.best_fit import BestFit\n",
    "\n",
    "import numpy as np\n",
    "import matplotlib.pyplot as plt"
   ]
  },
  {
   "cell_type": "code",
   "execution_count": 2,
   "metadata": {},
   "outputs": [],
   "source": [
    "# funkcja do produkowania wykresów obciążenia węzłów\n",
    "\n",
    "def plot_node_load(n: Node, estimated_node_load: float = None, actual_mean_node_load: float = None, node_power: float = None):\n",
    "    size = n.ws.size\n",
    "    plt.bar(\n",
    "        np.arange(size),\n",
    "        n.ws\n",
    "    )\n",
    "    plt.title(\"Node {}\".format(n.identity))\n",
    "    if estimated_node_load:\n",
    "        plt.hlines(estimated_node_load, xmin=0-1, xmax=size, colors='r')\n",
    "    if actual_mean_node_load:\n",
    "        plt.hlines(actual_mean_node_load, xmin=0-1, xmax=size, colors='g', linestyle='dashed')\n",
    "    if node_power:\n",
    "        plt.hlines(node_power, xmin=0-1, xmax=size, colors='orange')\n",
    "    plt.show()"
   ]
  },
  {
   "cell_type": "code",
   "execution_count": 3,
   "metadata": {},
   "outputs": [],
   "source": [
    "from typing import List\n",
    "\n",
    "def calculate_total_node_queueing_time(n: Node, power: float) -> float:\n",
    "    stb = np.mean(n.ws)/power\n",
    "    assert stb < 1, \"Node {} is not stable\".format(n.identity)\n",
    "    coeff = stb/(1-stb)\n",
    "    return coeff * np.sum(n.ws)\n",
    "    \n",
    "def calculate_all_nodes_queueing_time(nodes: List[Node], power: float) -> float:\n",
    "    total_ct = 0\n",
    "    for n in nodes:\n",
    "        ct = calculate_total_node_queueing_time(n, power)\n",
    "        total_ct += ct\n",
    "    return total_ct"
   ]
  },
  {
   "cell_type": "code",
   "execution_count": 4,
   "metadata": {},
   "outputs": [],
   "source": [
    "# TODO algorithms\n",
    "# SALP\n",
    "def salp_wrapper(N: int, load_vectors):\n",
    "    return SALP(N, load_vectors, False)\n",
    "# Best Fit\n",
    "def bf_wrapper(N: int, load_vectors):\n",
    "    return None\n",
    "# Round robin\n",
    "def rr_wrapper(N: int, load_vectors):\n",
    "    return RoundRobin(N, load_vectors, False)\n",
    "\n",
    "algorithms = [\n",
    "    ('SALP', salp_wrapper),\n",
    "#     ('BF', bf_wrapper),\n",
    "    ('RR', rr_wrapper),\n",
    "]"
   ]
  },
  {
   "cell_type": "markdown",
   "metadata": {},
   "source": [
    "## Example pipeline"
   ]
  },
  {
   "cell_type": "code",
   "execution_count": 5,
   "metadata": {},
   "outputs": [
    {
     "name": "stdout",
     "output_type": "stream",
     "text": [
      "Estimated minimal node power 30.0\n",
      "Node power 37.5\n",
      "Actual mean node load 30.73833083879031\n",
      "-----------------------\n",
      "Node 0: 0.8330989554140844 1559.4282331350855\n"
     ]
    },
    {
     "data": {
      "image/png": "[encoded data removed]",
      "text/plain": [
       "<Figure size 432x288 with 1 Axes>"
      ]
     },
     "metadata": {
      "needs_background": "light"
     },
     "output_type": "display_data"
    },
    {
     "name": "stdout",
     "output_type": "stream",
     "text": [
      "Node 1: 0.8356042521323023 1592.7293023954353\n"
     ]
    },
    {
     "data": {
      "image/png": "[encoded data removed]",
      "text/plain": [
       "<Figure size 432x288 with 1 Axes>"
      ]
     },
     "metadata": {
      "needs_background": "light"
     },
     "output_type": "display_data"
    },
    {
     "name": "stdout",
     "output_type": "stream",
     "text": [
      "Node 2: 0.7747960317803364 999.608647454564\n"
     ]
    },
    {
     "data": {
      "image/png": "[encoded data removed]",
      "text/plain": [
       "<Figure size 432x288 with 1 Axes>"
      ]
     },
     "metadata": {
      "needs_background": "light"
     },
     "output_type": "display_data"
    },
    {
     "name": "stdout",
     "output_type": "stream",
     "text": [
      "Node 3: 0.8352560501442443 1588.0385969714043\n"
     ]
    },
    {
     "data": {
      "image/png": "[encoded data removed]",
      "text/plain": [
       "<Figure size 432x288 with 1 Axes>"
      ]
     },
     "metadata": {
      "needs_background": "light"
     },
     "output_type": "display_data"
    }
   ],
   "source": [
    "def pipeline(F: int, N: int, size: int, cor: float, ro: float, rng = (2,4)):\n",
    "    \n",
    "    generator = ga.Generator(F, size, cor, rng)\n",
    "    \n",
    "    estimated_load = generator.get_estimated_cloud_load()\n",
    "    estimated_node_load = estimated_load/size/N\n",
    "    print(\"Estimated minimal node power\", estimated_node_load)\n",
    "    \n",
    "    node_power = estimated_node_load/ro\n",
    "    print(\"Node power\", node_power)\n",
    "    \n",
    "    load_vectors = generator.generate_cloud_load_vectors()\n",
    "    actual_mean_node_load = np.sum(load_vectors)/size/N\n",
    "    print(\"Actual mean node load\", actual_mean_node_load)\n",
    "    \n",
    "    cloud = SALP(N, load_vectors, False)\n",
    "    assert len(cloud.nodes) == N\n",
    "    \n",
    "    print('-----------------------')\n",
    "    \n",
    "    for n in cloud.nodes:\n",
    "        ct = calculate_total_node_queueing_time(n, node_power)\n",
    "        print(\"Node {}:\".format(n.identity), np.mean(n.ws)/node_power, ct)\n",
    "        plot_node_load(n,estimated_node_load,actual_mean_node_load, node_power)\n",
    "    \n",
    "    \n",
    "pipeline(20, 4, 10, 0.5, 0.8)"
   ]
  },
  {
   "cell_type": "markdown",
   "metadata": {},
   "source": [
    "### Walidacja SALP"
   ]
  },
  {
   "cell_type": "code",
   "execution_count": 6,
   "metadata": {},
   "outputs": [
    {
     "name": "stdout",
     "output_type": "stream",
     "text": [
      "----------------DESCRIPTION----------------\n",
      "Shards:\n",
      "[[3 1]\n",
      " [3 1]\n",
      " [3 1]\n",
      " [1 3]\n",
      " [1 3]\n",
      " [1 3]]\n",
      "\n",
      "WTS:\n",
      "[12 12]\n",
      "\n",
      "NWTS:\n",
      "[6. 6.]\n",
      "\n",
      "LW:\n",
      "[(0, 3.1622776601683795), (1, 3.1622776601683795), (2, 3.1622776601683795), (3, 3.1622776601683795), (4, 3.1622776601683795), (5, 3.1622776601683795)]\n",
      "\n",
      "\n",
      "----------------ASSIGNMENT----------------\n",
      "Shard ID: 0\n",
      "Shard: [3 1]\n",
      "\n",
      "\tNode ID: 0\n",
      "\tDelta: 2.654329479393269\n",
      "\n",
      "\tNode ID: 1\n",
      "\tDelta: 2.654329479393269\n",
      "\n",
      "Shard ID: 1\n",
      "Shard: [3 1]\n",
      "\n",
      "\tNode ID: 0\n",
      "\tDelta: 1.8309518948453007\n",
      "\n",
      "\tNode ID: 1\n",
      "\tDelta: 2.654329479393269\n",
      "\n",
      "Shard ID: 2\n",
      "Shard: [3 1]\n",
      "\n",
      "\tNode ID: 0\n",
      "\tDelta: 1.8309518948453007\n",
      "\n",
      "\tNode ID: 1\n",
      "\tDelta: 1.8309518948453007\n",
      "\n",
      "Shard ID: 3\n",
      "Shard: [1 3]\n",
      "\n",
      "\tNode ID: 0\n",
      "\tDelta: 2.585786437626905\n",
      "\n",
      "\tNode ID: 1\n",
      "\tDelta: 3.0025247700991105\n",
      "\n",
      "Shard ID: 4\n",
      "Shard: [1 3]\n",
      "\n",
      "\tNode ID: 0\n",
      "\tDelta: 2.585786437626905\n",
      "\n",
      "\tNode ID: 1\n",
      "\tDelta: 1.4142135623730951\n",
      "\n",
      "Shard ID: 5\n",
      "Shard: [1 3]\n",
      "\n",
      "\tNode ID: 1\n",
      "\tDelta: 1.4142135623730951\n",
      "\n",
      "----------------FINAL NODES----------------\n",
      "Node: 0\n",
      "\tShards assigned [FS]: [0 2 4]\n",
      "\tLoad of node [WS]: [7. 5.]\n",
      "\n",
      "Node: 1\n",
      "\tShards assigned [FS]: [1 3 5]\n",
      "\tLoad of node [WS]: [5. 7.]\n",
      "\n",
      "Node 0: 1.0\n"
     ]
    },
    {
     "data": {
      "image/png": "[encoded data removed]",
      "text/plain": [
       "<Figure size 432x288 with 1 Axes>"
      ]
     },
     "metadata": {
      "needs_background": "light"
     },
     "output_type": "display_data"
    },
    {
     "name": "stdout",
     "output_type": "stream",
     "text": [
      "Node 1: 1.0\n"
     ]
    },
    {
     "data": {
      "image/png": "[encoded data removed]",
      "text/plain": [
       "<Figure size 432x288 with 1 Axes>"
      ]
     },
     "metadata": {
      "needs_background": "light"
     },
     "output_type": "display_data"
    }
   ],
   "source": [
    "N = 2 # try with n=3 <3\n",
    "size = 2\n",
    "instance = np.array([[3,1],[3,1],[3,1],[1,3],[1,3],[1,3]])\n",
    "cloud = SALP(N,instance, True)\n",
    "load = np.sum(instance)\n",
    "mean_node_load = load/N/size\n",
    "\n",
    "for n in cloud.nodes:\n",
    "    # stabilność\n",
    "    print(\"Node {}:\".format(n.identity), np.mean(n.ws)/mean_node_load)\n",
    "    plot_node_load(n, mean_node_load)"
   ]
  },
  {
   "cell_type": "markdown",
   "metadata": {},
   "source": [
    "### Walidacja RR"
   ]
  },
  {
   "cell_type": "code",
   "execution_count": 7,
   "metadata": {},
   "outputs": [
    {
     "name": "stdout",
     "output_type": "stream",
     "text": [
      "Shard 0 [3 1] to Node 0 node lw [3. 1.]\n",
      "Shard 1 [3 1] to Node 1 node lw [3. 1.]\n",
      "Shard 2 [3 1] to Node 0 node lw [6. 2.]\n",
      "Shard 3 [1 3] to Node 1 node lw [4. 4.]\n",
      "Shard 4 [1 3] to Node 0 node lw [7. 5.]\n",
      "Shard 5 [1 3] to Node 1 node lw [5. 7.]\n",
      "Node 0: 1.0\n"
     ]
    },
    {
     "data": {
      "image/png": "[encoded data removed]",
      "text/plain": [
       "<Figure size 432x288 with 1 Axes>"
      ]
     },
     "metadata": {
      "needs_background": "light"
     },
     "output_type": "display_data"
    },
    {
     "name": "stdout",
     "output_type": "stream",
     "text": [
      "Node 1: 1.0\n"
     ]
    },
    {
     "data": {
      "image/png": "[encoded data removed]",
      "text/plain": [
       "<Figure size 432x288 with 1 Axes>"
      ]
     },
     "metadata": {
      "needs_background": "light"
     },
     "output_type": "display_data"
    }
   ],
   "source": [
    "N = 2 # try with n=3 <3\n",
    "size = 2\n",
    "instance = np.array([[3,1],[3,1],[3,1],[1,3],[1,3],[1,3]])\n",
    "cloud = RoundRobin(N,instance, True)\n",
    "load = np.sum(instance)\n",
    "mean_node_load = load/N/size\n",
    "\n",
    "for n in cloud.nodes:\n",
    "    # stabilność\n",
    "    print(\"Node {}:\".format(n.identity), np.mean(n.ws)/mean_node_load)\n",
    "    plot_node_load(n, mean_node_load)"
   ]
  },
  {
   "cell_type": "markdown",
   "metadata": {},
   "source": [
    "### Walidacja Best Fit"
   ]
  },
  {
   "cell_type": "raw",
   "metadata": {},
   "source": [
    "N = 2 # try with n=3 <3\n",
    "size = 2\n",
    "instance = np.array([[3,1],[3,1],[3,1],[1,3],[1,3],[1,3]])\n",
    "cloud = BestFit(N,instance, True)\n",
    "load = np.sum(instance)\n",
    "mean_node_load = load/N/size\n",
    "\n",
    "for n in cloud.nodes:\n",
    "    # stabilność\n",
    "    print(\"Node {}:\".format(n.identity), np.mean(n.ws)/mean_node_load)\n",
    "    plot_node_load(n, mean_node_load)"
   ]
  },
  {
   "cell_type": "code",
   "execution_count": 8,
   "metadata": {},
   "outputs": [
    {
     "name": "stdout",
     "output_type": "stream",
     "text": [
      "6.0\n",
      "[(0, 2.0), (1, 2.0), (2, 2.0), (3, 2.0), (4, 2.0), (5, 2.0)]\n",
      "all asigned\n",
      "Node 0: 1.0\n"
     ]
    },
    {
     "data": {
      "image/png": "[encoded data removed]",
      "text/plain": [
       "<Figure size 432x288 with 1 Axes>"
      ]
     },
     "metadata": {
      "needs_background": "light"
     },
     "output_type": "display_data"
    },
    {
     "name": "stdout",
     "output_type": "stream",
     "text": [
      "Node 1: 1.0\n"
     ]
    },
    {
     "data": {
      "image/png": "[encoded data removed]",
      "text/plain": [
       "<Figure size 432x288 with 1 Axes>"
      ]
     },
     "metadata": {
      "needs_background": "light"
     },
     "output_type": "display_data"
    }
   ],
   "source": [
    "def best_fit2(n: int, shards: np.ndarray):\n",
    "    \n",
    "    node_mean_load = np.sum(shards) / n / shards.shape[1]\n",
    "    print(node_mean_load)\n",
    "    \n",
    "    nodes = [Node(e) for e in range(0, n)]\n",
    "    ss = [(i, v) for i, v in enumerate(np.mean(shards, axis=1)) ]\n",
    "    ss.sort(key=lambda x: x[1], reverse=True)\n",
    "    usd = [False for _ in range(len(ss))]\n",
    "    print(ss)\n",
    "    \n",
    "    tolerance = node_mean_load * 0.1 # zakładamy, ze node może zostać przepełniony o 10%\n",
    "    for node in nodes:\n",
    "        for i, m in ss:\n",
    "            if usd[i]:\n",
    "                continue\n",
    "            nl = np.mean(node.ws)\n",
    "            if nl + m < node_mean_load + tolerance:\n",
    "                node.shard_append(i, shards[i])\n",
    "                usd[i] = True\n",
    "            if all(usd):\n",
    "                print(\"all asigned\")\n",
    "                break\n",
    "    if not all(usd):\n",
    "        print(\"Error\")\n",
    "        # TODO assign remaining nodes with first fit\n",
    "    return nodes\n",
    "\n",
    "N = 2\n",
    "size = 2\n",
    "instance = np.array([[3,1],[3,1],[3,1],[1,3],[1,3],[1,3]])\n",
    "mean_node_load = load/N/size\n",
    "nds = best_fit2(N, instance)\n",
    "\n",
    "for n in nds:\n",
    "    print(\"Node {}:\".format(n.identity), np.mean(n.ws)/mean_node_load)\n",
    "    plot_node_load(n, mean_node_load)"
   ]
  },
  {
   "cell_type": "markdown",
   "metadata": {},
   "source": [
    "# Parametry dla iteracji\n",
    "* F - ilość shardów\n",
    "* N - ilość węzłów\n",
    "* cor - poziom korelacji miedzy wektorami obciążenia\n",
    "* ro - poziom obciążenia chmury\n",
    "* size - długość wektorów obciążenia\n",
    "* repeats - ilość powtórzeń pojedynczej symulacji\n",
    "* parametry generatora do ustalenia"
   ]
  },
  {
   "cell_type": "code",
   "execution_count": 9,
   "metadata": {},
   "outputs": [],
   "source": [
    "N = 100\n",
    "F = 10*N\n",
    "cor_range = np.arange(0.0, 1.01, 0.5)\n",
    "load_range = [0.8, 0.9]\n",
    "size=100\n",
    "repeats=5\n",
    "rng = (2,4)"
   ]
  },
  {
   "cell_type": "code",
   "execution_count": 10,
   "metadata": {},
   "outputs": [],
   "source": [
    "def gamma_generator_factory(cor):\n",
    "    return ga.Generator(F, size, cor, rng)"
   ]
  },
  {
   "cell_type": "code",
   "execution_count": 11,
   "metadata": {},
   "outputs": [
    {
     "name": "stdout",
     "output_type": "stream",
     "text": [
      "Estimated node load 60.0\n",
      "0.0 0.8 SALP 2314798.9759034826\n",
      "0.0 0.8 RR 2587619.9943614\n",
      "0.0 0.8 SALP 2299067.8027432654\n",
      "0.0 0.8 RR 2567165.384851685\n",
      "0.0 0.8 SALP 2312491.1669366355\n",
      "0.0 0.8 RR 2608831.6245410307\n",
      "0.0 0.8 SALP 2269035.9293144797\n",
      "0.0 0.8 RR 2496921.1100505805\n",
      "0.0 0.8 SALP 2341592.372949185\n",
      "0.0 0.8 RR 2573015.2253898988\n",
      "0.0 0.9 SALP 5311009.174493453\n",
      "0.0 0.9 RR -1\n",
      "0.0 0.9 SALP 5144268.370828274\n",
      "0.0 0.9 RR -1\n",
      "0.0 0.9 SALP 5128521.018912641\n",
      "0.0 0.9 RR -1\n",
      "0.0 0.9 SALP 5144300.603557801\n",
      "0.0 0.9 RR -1\n",
      "0.0 0.9 SALP 5213896.712795142\n",
      "0.0 0.9 RR -1\n",
      "Estimated node load 60.0\n",
      "0.5 0.8 SALP 2363991.678221725\n",
      "0.5 0.8 RR 2717013.8176827403\n",
      "0.5 0.8 SALP 2395253.8951322054\n",
      "0.5 0.8 RR 2800358.687078184\n",
      "0.5 0.8 SALP 2383568.431992251\n",
      "0.5 0.8 RR 2765572.6414090153\n",
      "0.5 0.8 SALP 2407891.7151734517\n",
      "0.5 0.8 RR 2768058.7648943313\n",
      "0.5 0.8 SALP 2338785.482350137\n",
      "0.5 0.8 RR 2678777.951002352\n",
      "0.5 0.9 SALP 5183779.792564775\n",
      "0.5 0.9 RR -1\n",
      "0.5 0.9 SALP 5300916.242162615\n",
      "0.5 0.9 RR -1\n",
      "0.5 0.9 SALP 5379293.081123222\n",
      "0.5 0.9 RR -1\n",
      "0.5 0.9 SALP 5222671.250106917\n",
      "0.5 0.9 RR -1\n",
      "0.5 0.9 SALP 5365223.875309459\n",
      "0.5 0.9 RR -1\n",
      "Estimated node load 60.0\n",
      "1.0 0.8 SALP 2385407.659291128\n",
      "1.0 0.8 RR 2589438.086296019\n",
      "1.0 0.8 SALP 2344705.185747117\n",
      "1.0 0.8 RR 2527853.195255577\n",
      "1.0 0.8 SALP 2346514.676030516\n",
      "1.0 0.8 RR 2537723.402841997\n",
      "1.0 0.8 SALP 2383587.1107467213\n",
      "1.0 0.8 RR 2584837.4468966154\n",
      "1.0 0.8 SALP 2354493.503453773\n",
      "1.0 0.8 RR 2538363.775671725\n",
      "1.0 0.9 SALP 5619931.7377613485\n",
      "1.0 0.9 RR -1\n",
      "1.0 0.9 SALP 5384544.294186791\n",
      "1.0 0.9 RR -1\n",
      "1.0 0.9 SALP 5186864.4044777285\n",
      "1.0 0.9 RR -1\n",
      "1.0 0.9 SALP 5183614.026158896\n",
      "1.0 0.9 RR -1\n",
      "1.0 0.9 SALP 5267320.70493228\n",
      "1.0 0.9 RR -1\n"
     ]
    }
   ],
   "source": [
    "# prototype\n",
    "for cor in cor_range:\n",
    "    \n",
    "    generator = ga.Generator(F, size, cor, rng)\n",
    "    \n",
    "    estimated_load = generator.get_estimated_cloud_load()\n",
    "    estimated_node_load = estimated_load/size/N\n",
    "    print(\"Estimated node load\", estimated_node_load)\n",
    "    \n",
    "    for ro in load_range:\n",
    "        \n",
    "        node_power = estimated_node_load/ro\n",
    "        \n",
    "        for _ in range(repeats):\n",
    "            \n",
    "            load_vectors = generator.generate_cloud_load_vectors()\n",
    "            actual_mean_node_load = np.sum(load_vectors)/size/N\n",
    "#             print(\"Actual mean node load\", actual_mean_node_load)\n",
    "            \n",
    "            for name, func in algorithms:\n",
    "                cloud = func(N, load_vectors)\n",
    "                try:\n",
    "                    total_ct = calculate_all_nodes_queueing_time(cloud.nodes, node_power)\n",
    "                except AssertionError:\n",
    "                    total_ct = -1\n",
    "            \n",
    "                print(cor, ro, name, total_ct)"
   ]
  },
  {
   "cell_type": "code",
   "execution_count": 12,
   "metadata": {},
   "outputs": [
    {
     "name": "stdout",
     "output_type": "stream",
     "text": [
      "(0.0, 0.8, 'SALP', 2377840.458601756)\n",
      "(0.0, 0.8, 'RR', 2645387.5854072534)\n",
      "(0.0, 0.8, 'SALP', 2360907.8855184596)\n",
      "(0.0, 0.8, 'RR', 2621019.8167996146)\n",
      "(0.0, 0.8, 'SALP', 2375005.3653245657)\n",
      "(0.0, 0.8, 'RR', 2649061.7938820454)\n",
      "(0.0, 0.8, 'SALP', 2331036.3407559125)\n",
      "(0.0, 0.8, 'RR', 2573689.5974715943)\n",
      "(0.0, 0.8, 'SALP', 2398398.7180036698)\n",
      "(0.0, 0.8, 'RR', 2669461.0644221175)\n",
      "(0.0, 0.9, 'SALP', 5573559.871507007)\n",
      "(0.0, 0.9, 'RR', -1)\n",
      "(0.0, 0.9, 'SALP', 5325272.968658654)\n",
      "(0.0, 0.9, 'RR', -1)\n",
      "(0.0, 0.9, 'SALP', 5354539.622866274)\n",
      "(0.0, 0.9, 'RR', -1)\n",
      "(0.0, 0.9, 'SALP', 5298525.446269398)\n",
      "(0.0, 0.9, 'RR', -1)\n",
      "(0.0, 0.9, 'SALP', 5350096.117587304)\n",
      "(0.0, 0.9, 'RR', -1)\n",
      "(0.5, 0.8, 'SALP', 2356181.0015403302)\n",
      "(0.5, 0.8, 'RR', 2662590.818789079)\n",
      "(0.5, 0.8, 'SALP', 2360671.4269172885)\n",
      "(0.5, 0.8, 'RR', 2654750.5827909713)\n",
      "(0.5, 0.8, 'SALP', 2383409.281142406)\n",
      "(0.5, 0.8, 'RR', 2646404.6752935853)\n",
      "(0.5, 0.8, 'SALP', 2390705.2291435977)\n",
      "(0.5, 0.8, 'RR', 2671916.450371593)\n",
      "(0.5, 0.8, 'SALP', 2333364.4544349764)\n",
      "(0.5, 0.8, 'RR', 2597870.528318474)\n",
      "(0.5, 0.9, 'SALP', 5194506.123876897)\n",
      "(0.5, 0.9, 'RR', -1)\n",
      "(0.5, 0.9, 'SALP', 5228355.7891507745)\n",
      "(0.5, 0.9, 'RR', -1)\n",
      "(0.5, 0.9, 'SALP', 5150693.692233391)\n",
      "(0.5, 0.9, 'RR', -1)\n",
      "(0.5, 0.9, 'SALP', 5210000.323818198)\n",
      "(0.5, 0.9, 'RR', -1)\n",
      "(0.5, 0.9, 'SALP', 5234755.166664427)\n",
      "(0.5, 0.9, 'RR', -1)\n",
      "(1.0, 0.8, 'SALP', 2494899.68095877)\n",
      "(1.0, 0.8, 'RR', 2831262.0235061417)\n",
      "(1.0, 0.8, 'SALP', 2555098.5865003304)\n",
      "(1.0, 0.8, 'RR', 2948460.5805787463)\n",
      "(1.0, 0.8, 'SALP', 2530548.586981131)\n",
      "(1.0, 0.8, 'RR', 2871773.6608086675)\n",
      "(1.0, 0.8, 'SALP', 2518599.678808595)\n",
      "(1.0, 0.8, 'RR', 2869844.444036474)\n",
      "(1.0, 0.8, 'SALP', 2502163.4253910095)\n",
      "(1.0, 0.8, 'RR', 2871766.289323546)\n",
      "(1.0, 0.9, 'SALP', 6055691.609829693)\n",
      "(1.0, 0.9, 'RR', -1)\n",
      "(1.0, 0.9, 'SALP', 5894998.5590760745)\n",
      "(1.0, 0.9, 'RR', -1)\n",
      "(1.0, 0.9, 'SALP', 5899025.228329465)\n",
      "(1.0, 0.9, 'RR', -1)\n",
      "(1.0, 0.9, 'SALP', 5975867.728255661)\n",
      "(1.0, 0.9, 'RR', -1)\n",
      "(1.0, 0.9, 'SALP', 5953990.718433565)\n",
      "(1.0, 0.9, 'RR', -1)\n"
     ]
    }
   ],
   "source": [
    "from typing import Tuple, List, Callable\n",
    "from src.generation.base.generator import BaseGenerator\n",
    "\n",
    "def evaluate_algorithms(N: int, node_power: float, algorithms: List[Tuple[str, Callable]], load_vectors: np.ndarray):\n",
    "    for name, func in algorithms:\n",
    "        cloud = func(N, load_vectors)\n",
    "        try:\n",
    "            total_ct = calculate_all_nodes_queueing_time(cloud.nodes, node_power)\n",
    "        except AssertionError:\n",
    "            total_ct = -1\n",
    "        yield name, total_ct\n",
    "        \n",
    "def pipeline(N: int, size: int, repeats: int, cor_range: List[float], load_range: List[float], generator_factory: Callable[[float], BaseGenerator], algotithms: List[Tuple[str, Callable]]):\n",
    "    for cor in cor_range:\n",
    "        generator = generator_factory(cor)\n",
    "        \n",
    "        estimated_load = generator.get_estimated_cloud_load()\n",
    "        estimated_node_load = estimated_load/size/N\n",
    "#         print(\"Estimated node load\", estimated_node_load)\n",
    "        \n",
    "        for ro in load_range:\n",
    "            node_power = estimated_node_load/ro\n",
    "            \n",
    "            for _ in range(repeats):\n",
    "                load_vectors = generator.generate_cloud_load_vectors()\n",
    "#                 print(np.sum(load_vectors)/size/N)\n",
    "                \n",
    "                for res in evaluate_algorithms(N, node_power, algorithms, load_vectors):\n",
    "                    yield((cor, ro) + res)\n",
    "                \n",
    "for partial in pipeline(N, size, repeats, cor_range, load_range, gamma_generator_factory, algorithms):\n",
    "    print(partial)"
   ]
  },
  {
   "cell_type": "code",
   "execution_count": 13,
   "metadata": {},
   "outputs": [
    {
     "data": {
      "text/html": [
       "<div>\n",
       "<style scoped>\n",
       "    .dataframe tbody tr th:only-of-type {\n",
       "        vertical-align: middle;\n",
       "    }\n",
       "\n",
       "    .dataframe tbody tr th {\n",
       "        vertical-align: top;\n",
       "    }\n",
       "\n",
       "    .dataframe thead th {\n",
       "        text-align: right;\n",
       "    }\n",
       "</style>\n",
       "<table border=\"1\" class=\"dataframe\">\n",
       "  <thead>\n",
       "    <tr style=\"text-align: right;\">\n",
       "      <th></th>\n",
       "      <th>correlation</th>\n",
       "      <th>load</th>\n",
       "      <th>algorithm</th>\n",
       "      <th>value</th>\n",
       "    </tr>\n",
       "  </thead>\n",
       "  <tbody>\n",
       "    <tr>\n",
       "      <th>0</th>\n",
       "      <td>0.0</td>\n",
       "      <td>0.8</td>\n",
       "      <td>SALP</td>\n",
       "      <td>2.361000e+06</td>\n",
       "    </tr>\n",
       "    <tr>\n",
       "      <th>1</th>\n",
       "      <td>0.0</td>\n",
       "      <td>0.8</td>\n",
       "      <td>RR</td>\n",
       "      <td>2.689225e+06</td>\n",
       "    </tr>\n",
       "    <tr>\n",
       "      <th>2</th>\n",
       "      <td>0.0</td>\n",
       "      <td>0.8</td>\n",
       "      <td>SALP</td>\n",
       "      <td>2.363611e+06</td>\n",
       "    </tr>\n",
       "    <tr>\n",
       "      <th>3</th>\n",
       "      <td>0.0</td>\n",
       "      <td>0.8</td>\n",
       "      <td>RR</td>\n",
       "      <td>2.627277e+06</td>\n",
       "    </tr>\n",
       "    <tr>\n",
       "      <th>4</th>\n",
       "      <td>0.0</td>\n",
       "      <td>0.8</td>\n",
       "      <td>SALP</td>\n",
       "      <td>2.361624e+06</td>\n",
       "    </tr>\n",
       "  </tbody>\n",
       "</table>\n",
       "</div>"
      ],
      "text/plain": [
       "   correlation  load algorithm         value\n",
       "0          0.0   0.8      SALP  2.361000e+06\n",
       "1          0.0   0.8        RR  2.689225e+06\n",
       "2          0.0   0.8      SALP  2.363611e+06\n",
       "3          0.0   0.8        RR  2.627277e+06\n",
       "4          0.0   0.8      SALP  2.361624e+06"
      ]
     },
     "execution_count": 13,
     "metadata": {},
     "output_type": "execute_result"
    }
   ],
   "source": [
    "import pandas as pd\n",
    "\n",
    "gen = pipeline(N, size, repeats, cor_range, load_range, gamma_generator_factory, algorithms)\n",
    "df = pd.DataFrame(gen, columns=['correlation', 'load', 'algorithm', 'value'])\n",
    "\n",
    "df.head()"
   ]
  }
 ],
 "metadata": {
  "kernelspec": {
   "display_name": "Python 3",
   "language": "python",
   "name": "python3"
  },
  "language_info": {
   "codemirror_mode": {
    "name": "ipython",
    "version": 3
   },
   "file_extension": ".py",
   "mimetype": "text/x-python",
   "name": "python",
   "nbconvert_exporter": "python",
   "pygments_lexer": "ipython3",
   "version": "3.8.6"
  }
 },
 "nbformat": 4,
 "nbformat_minor": 4
}
