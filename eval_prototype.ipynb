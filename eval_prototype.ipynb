{
 "cells": [
  {
   "cell_type": "code",
   "execution_count": 1,
   "metadata": {},
   "outputs": [],
   "source": [
    "import src.generation.gamma as ga\n",
    "import src.generation.multivariate_normal as mn\n",
    "\n",
    "from src.salp.salp import SALP\n",
    "from src.salp.salp import Node\n",
    "\n",
    "from src.algorithms.round_robin import RoundRobin\n",
    "from src.algorithms.best_fit import BestFit\n",
    "\n",
    "from src.evaluation.core import pipeline\n",
    "\n",
    "import numpy as np"
   ]
  },
  {
   "cell_type": "code",
   "execution_count": 2,
   "metadata": {},
   "outputs": [],
   "source": [
    "# TODO algorithms\n",
    "# SALP\n",
    "def salp_wrapper(N: int, load_vectors):\n",
    "    return SALP(N, load_vectors, False)\n",
    "# Best Fit\n",
    "def bf_wrapper(N: int, load_vectors):\n",
    "    bf = BestFit(N, load_vectors, False, False)\n",
    "    bf.assign()\n",
    "    return bf\n",
    "# Round robin\n",
    "def rr_wrapper(N: int, load_vectors):\n",
    "    return RoundRobin(N, load_vectors, False)\n",
    "\n",
    "algorithms = [\n",
    "    ('SALP', salp_wrapper),\n",
    "    ('BF', bf_wrapper),\n",
    "    ('RR', rr_wrapper),\n",
    "]"
   ]
  },
  {
   "cell_type": "markdown",
   "metadata": {},
   "source": [
    "# Parametry dla iteracji\n",
    "* F - ilość shardów\n",
    "* N - ilość węzłów\n",
    "* cor - poziom korelacji miedzy wektorami obciążenia\n",
    "* ro - poziom obciążenia chmury\n",
    "* size - długość wektorów obciążenia\n",
    "* repeats - ilość powtórzeń pojedynczej symulacji\n",
    "* parametry generatora do ustalenia"
   ]
  },
  {
   "cell_type": "code",
   "execution_count": 3,
   "metadata": {},
   "outputs": [],
   "source": [
    "N = 100\n",
    "F = 10*N\n",
    "cor_range = np.arange(0.0, 1.01, 0.5)\n",
    "load_range = [0.8, 0.9]\n",
    "size=100\n",
    "repeats=5\n",
    "rng = (2,4)"
   ]
  },
  {
   "cell_type": "code",
   "execution_count": 4,
   "metadata": {},
   "outputs": [],
   "source": [
    "def gamma_generator_factory(cor):\n",
    "    return ga.Generator(F, size, cor, rng)"
   ]
  },
  {
   "cell_type": "code",
   "execution_count": 5,
   "metadata": {},
   "outputs": [
    {
     "name": "stderr",
     "output_type": "stream",
     "text": [
      "100%|██████████| 30/30 [00:52<00:00,  1.74s/it]\n"
     ]
    },
    {
     "data": {
      "text/html": [
       "<div>\n",
       "<style scoped>\n",
       "    .dataframe tbody tr th:only-of-type {\n",
       "        vertical-align: middle;\n",
       "    }\n",
       "\n",
       "    .dataframe tbody tr th {\n",
       "        vertical-align: top;\n",
       "    }\n",
       "\n",
       "    .dataframe thead th {\n",
       "        text-align: right;\n",
       "    }\n",
       "</style>\n",
       "<table border=\"1\" class=\"dataframe\">\n",
       "  <thead>\n",
       "    <tr style=\"text-align: right;\">\n",
       "      <th></th>\n",
       "      <th>correlation</th>\n",
       "      <th>load</th>\n",
       "      <th>algorithm</th>\n",
       "      <th>value</th>\n",
       "    </tr>\n",
       "  </thead>\n",
       "  <tbody>\n",
       "    <tr>\n",
       "      <th>0</th>\n",
       "      <td>0.0</td>\n",
       "      <td>0.8</td>\n",
       "      <td>SALP</td>\n",
       "      <td>2.303014e+06</td>\n",
       "    </tr>\n",
       "    <tr>\n",
       "      <th>1</th>\n",
       "      <td>0.0</td>\n",
       "      <td>0.8</td>\n",
       "      <td>BF</td>\n",
       "      <td>2.307079e+06</td>\n",
       "    </tr>\n",
       "    <tr>\n",
       "      <th>2</th>\n",
       "      <td>0.0</td>\n",
       "      <td>0.8</td>\n",
       "      <td>RR</td>\n",
       "      <td>2.524497e+06</td>\n",
       "    </tr>\n",
       "    <tr>\n",
       "      <th>3</th>\n",
       "      <td>0.0</td>\n",
       "      <td>0.8</td>\n",
       "      <td>SALP</td>\n",
       "      <td>2.275835e+06</td>\n",
       "    </tr>\n",
       "    <tr>\n",
       "      <th>4</th>\n",
       "      <td>0.0</td>\n",
       "      <td>0.8</td>\n",
       "      <td>BF</td>\n",
       "      <td>2.280970e+06</td>\n",
       "    </tr>\n",
       "  </tbody>\n",
       "</table>\n",
       "</div>"
      ],
      "text/plain": [
       "   correlation  load algorithm         value\n",
       "0          0.0   0.8      SALP  2.303014e+06\n",
       "1          0.0   0.8        BF  2.307079e+06\n",
       "2          0.0   0.8        RR  2.524497e+06\n",
       "3          0.0   0.8      SALP  2.275835e+06\n",
       "4          0.0   0.8        BF  2.280970e+06"
      ]
     },
     "execution_count": 5,
     "metadata": {},
     "output_type": "execute_result"
    }
   ],
   "source": [
    "import pandas as pd\n",
    "\n",
    "gen = pipeline(N, size, repeats, cor_range, load_range, gamma_generator_factory, algorithms)\n",
    "df = pd.DataFrame(gen, columns=['correlation', 'load', 'algorithm', 'value'])\n",
    "\n",
    "df.head()"
   ]
  }
 ],
 "metadata": {
  "kernelspec": {
   "display_name": "Python 3",
   "language": "python",
   "name": "python3"
  },
  "language_info": {
   "codemirror_mode": {
    "name": "ipython",
    "version": 3
   },
   "file_extension": ".py",
   "mimetype": "text/x-python",
   "name": "python",
   "nbconvert_exporter": "python",
   "pygments_lexer": "ipython3",
   "version": "3.8.6"
  }
 },
 "nbformat": 4,
 "nbformat_minor": 4
}
