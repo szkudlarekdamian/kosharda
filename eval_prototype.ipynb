{
 "cells": [
  {
   "cell_type": "code",
   "execution_count": 1,
   "metadata": {},
   "outputs": [],
   "source": [
    "import src.generation.gamma as ga\n",
    "import src.generation.multivariate_normal as mn\n",
    "\n",
    "from src.salp.salp import SALP\n",
    "from src.salp.salp import Node\n",
    "\n",
    "from src.algorithms.round_robin import RoundRobin\n",
    "from src.algorithms.best_fit import BestFit\n",
    "\n",
    "import numpy as np\n",
    "from tqdm.notebook import tqdm\n",
    "# from tqdm import tqdm"
   ]
  },
  {
   "cell_type": "code",
   "execution_count": 2,
   "metadata": {},
   "outputs": [],
   "source": [
    "from typing import List\n",
    "\n",
    "def calculate_total_node_queueing_time(n: Node, power: float) -> float:\n",
    "    stb = np.mean(n.ws)/power\n",
    "    assert stb < 1, \"Node {} is not stable\".format(n.identity)\n",
    "    coeff = stb/(1-stb)\n",
    "    return coeff * np.sum(n.ws)\n",
    "    \n",
    "def calculate_all_nodes_queueing_time(nodes: List[Node], power: float) -> float:\n",
    "    total_ct = 0\n",
    "    for n in nodes:\n",
    "        ct = calculate_total_node_queueing_time(n, power)\n",
    "        total_ct += ct\n",
    "    return total_ct"
   ]
  },
  {
   "cell_type": "code",
   "execution_count": 3,
   "metadata": {},
   "outputs": [],
   "source": [
    "# TODO algorithms\n",
    "# SALP\n",
    "def salp_wrapper(N: int, load_vectors):\n",
    "    return SALP(N, load_vectors, False)\n",
    "# Best Fit\n",
    "def bf_wrapper(N: int, load_vectors):\n",
    "    return None\n",
    "# Round robin\n",
    "def rr_wrapper(N: int, load_vectors):\n",
    "    return RoundRobin(N, load_vectors, False)\n",
    "\n",
    "algorithms = [\n",
    "    ('SALP', salp_wrapper),\n",
    "#     ('BF', bf_wrapper),\n",
    "    ('RR', rr_wrapper),\n",
    "]"
   ]
  },
  {
   "cell_type": "markdown",
   "metadata": {},
   "source": [
    "# Parametry dla iteracji\n",
    "* F - ilość shardów\n",
    "* N - ilość węzłów\n",
    "* cor - poziom korelacji miedzy wektorami obciążenia\n",
    "* ro - poziom obciążenia chmury\n",
    "* size - długość wektorów obciążenia\n",
    "* repeats - ilość powtórzeń pojedynczej symulacji\n",
    "* parametry generatora do ustalenia"
   ]
  },
  {
   "cell_type": "code",
   "execution_count": 4,
   "metadata": {},
   "outputs": [],
   "source": [
    "N = 100\n",
    "F = 10*N\n",
    "cor_range = np.arange(0.0, 1.01, 0.5)\n",
    "load_range = [0.8, 0.9]\n",
    "size=100\n",
    "repeats=5\n",
    "rng = (2,4)"
   ]
  },
  {
   "cell_type": "code",
   "execution_count": 5,
   "metadata": {},
   "outputs": [],
   "source": [
    "def gamma_generator_factory(cor):\n",
    "    return ga.Generator(F, size, cor, rng)"
   ]
  },
  {
   "cell_type": "code",
   "execution_count": 6,
   "metadata": {},
   "outputs": [],
   "source": [
    "from typing import Tuple, List, Callable\n",
    "from src.generation.base.generator import BaseGenerator\n",
    "\n",
    "def evaluate_algorithms(N: int, node_power: float, algorithms: List[Tuple[str, Callable]], load_vectors: np.ndarray):\n",
    "    for name, func in algorithms:\n",
    "        cloud = func(N, load_vectors)\n",
    "        try:\n",
    "            total_ct = calculate_all_nodes_queueing_time(cloud.nodes, node_power)\n",
    "        except AssertionError:\n",
    "            total_ct = -1\n",
    "        yield name, total_ct\n",
    "        \n",
    "def pipeline(N: int, size: int, repeats: int, cor_range: List[float], load_range: List[float], \n",
    "             generator_factory: Callable[[float], BaseGenerator], algotithms: List[Tuple[str, Callable]]):\n",
    "    pbar = tqdm(total=repeats * len(cor_range) * len(load_range))\n",
    "    for cor in cor_range:\n",
    "        generator = generator_factory(cor)\n",
    "        \n",
    "        estimated_load = generator.get_estimated_cloud_load()\n",
    "        estimated_node_load = estimated_load/size/N\n",
    "#         print(\"Estimated node load\", estimated_node_load)\n",
    "        \n",
    "        for ro in load_range:\n",
    "            node_power = estimated_node_load/ro\n",
    "            \n",
    "            for _ in range(repeats):\n",
    "                load_vectors = generator.generate_cloud_load_vectors()\n",
    "#                 print(np.sum(load_vectors)/size/N)\n",
    "                \n",
    "                for res in evaluate_algorithms(N, node_power, algorithms, load_vectors):\n",
    "                    yield((cor, ro) + res)\n",
    "                pbar.update(1)\n",
    "    pbar.close()\n",
    "                \n",
    "# for partial in pipeline(N, size, repeats, cor_range, load_range, gamma_generator_factory, algorithms):\n",
    "#     print(partial)"
   ]
  },
  {
   "cell_type": "code",
   "execution_count": 7,
   "metadata": {},
   "outputs": [
    {
     "data": {
      "application/vnd.jupyter.widget-view+json": {
       "model_id": "b5265cee82c14f35ad2868b499e7c862",
       "version_major": 2,
       "version_minor": 0
      },
      "text/plain": [
       "HBox(children=(HTML(value=''), FloatProgress(value=0.0, max=30.0), HTML(value='')))"
      ]
     },
     "metadata": {},
     "output_type": "display_data"
    },
    {
     "name": "stdout",
     "output_type": "stream",
     "text": [
      "\n"
     ]
    },
    {
     "data": {
      "text/html": [
       "<div>\n",
       "<style scoped>\n",
       "    .dataframe tbody tr th:only-of-type {\n",
       "        vertical-align: middle;\n",
       "    }\n",
       "\n",
       "    .dataframe tbody tr th {\n",
       "        vertical-align: top;\n",
       "    }\n",
       "\n",
       "    .dataframe thead th {\n",
       "        text-align: right;\n",
       "    }\n",
       "</style>\n",
       "<table border=\"1\" class=\"dataframe\">\n",
       "  <thead>\n",
       "    <tr style=\"text-align: right;\">\n",
       "      <th></th>\n",
       "      <th>correlation</th>\n",
       "      <th>load</th>\n",
       "      <th>algorithm</th>\n",
       "      <th>value</th>\n",
       "    </tr>\n",
       "  </thead>\n",
       "  <tbody>\n",
       "    <tr>\n",
       "      <th>0</th>\n",
       "      <td>0.0</td>\n",
       "      <td>0.8</td>\n",
       "      <td>SALP</td>\n",
       "      <td>2.398728e+06</td>\n",
       "    </tr>\n",
       "    <tr>\n",
       "      <th>1</th>\n",
       "      <td>0.0</td>\n",
       "      <td>0.8</td>\n",
       "      <td>RR</td>\n",
       "      <td>2.710003e+06</td>\n",
       "    </tr>\n",
       "    <tr>\n",
       "      <th>2</th>\n",
       "      <td>0.0</td>\n",
       "      <td>0.8</td>\n",
       "      <td>SALP</td>\n",
       "      <td>2.432868e+06</td>\n",
       "    </tr>\n",
       "    <tr>\n",
       "      <th>3</th>\n",
       "      <td>0.0</td>\n",
       "      <td>0.8</td>\n",
       "      <td>RR</td>\n",
       "      <td>2.706609e+06</td>\n",
       "    </tr>\n",
       "    <tr>\n",
       "      <th>4</th>\n",
       "      <td>0.0</td>\n",
       "      <td>0.8</td>\n",
       "      <td>SALP</td>\n",
       "      <td>2.432780e+06</td>\n",
       "    </tr>\n",
       "  </tbody>\n",
       "</table>\n",
       "</div>"
      ],
      "text/plain": [
       "   correlation  load algorithm         value\n",
       "0          0.0   0.8      SALP  2.398728e+06\n",
       "1          0.0   0.8        RR  2.710003e+06\n",
       "2          0.0   0.8      SALP  2.432868e+06\n",
       "3          0.0   0.8        RR  2.706609e+06\n",
       "4          0.0   0.8      SALP  2.432780e+06"
      ]
     },
     "execution_count": 7,
     "metadata": {},
     "output_type": "execute_result"
    }
   ],
   "source": [
    "import pandas as pd\n",
    "\n",
    "gen = pipeline(N, size, repeats, cor_range, load_range, gamma_generator_factory, algorithms)\n",
    "df = pd.DataFrame(gen, columns=['correlation', 'load', 'algorithm', 'value'])\n",
    "\n",
    "df.head()"
   ]
  }
 ],
 "metadata": {
  "kernelspec": {
   "display_name": "Python 3",
   "language": "python",
   "name": "python3"
  },
  "language_info": {
   "codemirror_mode": {
    "name": "ipython",
    "version": 3
   },
   "file_extension": ".py",
   "mimetype": "text/x-python",
   "name": "python",
   "nbconvert_exporter": "python",
   "pygments_lexer": "ipython3",
   "version": "3.8.6"
  }
 },
 "nbformat": 4,
 "nbformat_minor": 4
}
