{
 "cells": [
  {
   "cell_type": "code",
   "execution_count": 1,
   "metadata": {},
   "outputs": [],
   "source": [
    "import src.generation.gamma as ga\n",
    "import src.generation.multivariate_normal as mn\n",
    "\n",
    "from src.salp.salp import SALP\n",
    "from src.salp.salp import Node\n",
    "\n",
    "import numpy as np\n",
    "import matplotlib.pyplot as plt"
   ]
  },
  {
   "cell_type": "markdown",
   "metadata": {},
   "source": [
    "## Example pipeline"
   ]
  },
  {
   "cell_type": "code",
   "execution_count": 2,
   "metadata": {},
   "outputs": [
    {
     "name": "stdout",
     "output_type": "stream",
     "text": [
      "Estimated minimal node power 30.0\n",
      "Actual mean node load 29.662529940200727\n",
      "-----------------------\n",
      "Node 0: 1.0236035740404081\n"
     ]
    },
    {
     "data": {
      "image/png": "[encoded data removed]",
      "text/plain": [
       "<Figure size 432x288 with 1 Axes>"
      ]
     },
     "metadata": {
      "needs_background": "light"
     },
     "output_type": "display_data"
    },
    {
     "name": "stdout",
     "output_type": "stream",
     "text": [
      "Node 1: 1.0163878759313467\n"
     ]
    },
    {
     "data": {
      "image/png": "[encoded data removed]",
      "text/plain": [
       "<Figure size 432x288 with 1 Axes>"
      ]
     },
     "metadata": {
      "needs_background": "light"
     },
     "output_type": "display_data"
    },
    {
     "name": "stdout",
     "output_type": "stream",
     "text": [
      "Node 2: 1.0024867014512147\n"
     ]
    },
    {
     "data": {
      "image/png": "[encoded data removed]",
      "text/plain": [
       "<Figure size 432x288 with 1 Axes>"
      ]
     },
     "metadata": {
      "needs_background": "light"
     },
     "output_type": "display_data"
    },
    {
     "name": "stdout",
     "output_type": "stream",
     "text": [
      "Node 3: 0.9125258406037936\n"
     ]
    },
    {
     "data": {
      "image/png": "[encoded data removed]",
      "text/plain": [
       "<Figure size 432x288 with 1 Axes>"
      ]
     },
     "metadata": {
      "needs_background": "light"
     },
     "output_type": "display_data"
    }
   ],
   "source": [
    "def pipeline(F: int, N: int, size: int, cor: float, rng = (2,4)):\n",
    "    \n",
    "    generator = ga.Generator(F, size, cor, rng)\n",
    "    \n",
    "    estimated_load = generator.get_estimated_cloud_load()\n",
    "    estimated_node_load = estimated_load/size/N\n",
    "    print(\"Estimated minimal node power\", estimated_node_load)\n",
    "    \n",
    "    load_vectors = generator.generate_cloud_load_vectors()\n",
    "    actual_mean_node_load = np.sum(load_vectors)/size/N\n",
    "    print(\"Actual mean node load\", actual_mean_node_load)\n",
    "    \n",
    "    cloud = SALP(N, load_vectors, False)\n",
    "    assert len(cloud.nodes) == N\n",
    "    \n",
    "    print('-----------------------')\n",
    "    \n",
    "    for n in cloud.nodes:\n",
    "        print(\"Node {}:\".format(n.identity), np.mean(n.ws)/estimated_node_load)\n",
    "        plt.bar(\n",
    "            np.arange(size),\n",
    "            n.ws\n",
    "        )\n",
    "        plt.title(\"Node {}\".format(n.identity))\n",
    "        plt.hlines(estimated_node_load, xmin=0-1, xmax=size, colors='r')\n",
    "        plt.hlines(actual_mean_node_load, xmin=0-1, xmax=size, colors='g', linestyle='dashed')\n",
    "        plt.show()\n",
    "    \n",
    "    \n",
    "pipeline(20, 4, 10, 0.5)"
   ]
  },
  {
   "cell_type": "markdown",
   "metadata": {},
   "source": [
    "### Walidacja SALP"
   ]
  },
  {
   "cell_type": "code",
   "execution_count": 5,
   "metadata": {},
   "outputs": [
    {
     "name": "stdout",
     "output_type": "stream",
     "text": [
      "----------------DESCRIPTION----------------\n",
      "Shards:\n",
      "[[3 1]\n",
      " [3 1]\n",
      " [3 1]\n",
      " [1 3]\n",
      " [1 3]\n",
      " [1 3]]\n",
      "\n",
      "WTS:\n",
      "[12 12]\n",
      "\n",
      "NWTS:\n",
      "[6. 6.]\n",
      "\n",
      "LW:\n",
      "[(0, 3.1622776601683795), (1, 3.1622776601683795), (2, 3.1622776601683795), (3, 3.1622776601683795), (4, 3.1622776601683795), (5, 3.1622776601683795)]\n",
      "\n",
      "\n",
      "----------------ASSIGNMENT----------------\n",
      "Shard ID: 0\n",
      "Shard: [3 1]\n",
      "\n",
      "\tNode ID: 0\n",
      "\tDelta: 2.654329479393269\n",
      "\n",
      "\tNode ID: 1\n",
      "\tDelta: 2.654329479393269\n",
      "\n",
      "Shard ID: 1\n",
      "Shard: [3 1]\n",
      "\n",
      "\tNode ID: 0\n",
      "\tDelta: 1.8309518948453007\n",
      "\n",
      "\tNode ID: 1\n",
      "\tDelta: 2.654329479393269\n",
      "\n",
      "Shard ID: 2\n",
      "Shard: [3 1]\n",
      "\n",
      "\tNode ID: 0\n",
      "\tDelta: 1.8309518948453007\n",
      "\n",
      "\tNode ID: 1\n",
      "\tDelta: 1.8309518948453007\n",
      "\n",
      "Shard ID: 3\n",
      "Shard: [1 3]\n",
      "\n",
      "\tNode ID: 0\n",
      "\tDelta: 2.585786437626905\n",
      "\n",
      "\tNode ID: 1\n",
      "\tDelta: 3.0025247700991105\n",
      "\n",
      "Shard ID: 4\n",
      "Shard: [1 3]\n",
      "\n",
      "\tNode ID: 0\n",
      "\tDelta: 2.585786437626905\n",
      "\n",
      "\tNode ID: 1\n",
      "\tDelta: 1.4142135623730951\n",
      "\n",
      "Shard ID: 5\n",
      "Shard: [1 3]\n",
      "\n",
      "\tNode ID: 1\n",
      "\tDelta: 1.4142135623730951\n",
      "\n",
      "----------------FINAL NODES----------------\n",
      "Node: 0\n",
      "\tShards assigned [FS]: [0 2 4]\n",
      "\tLoad of node [WS]: [7. 5.]\n",
      "\n",
      "Node: 1\n",
      "\tShards assigned [FS]: [1 3 5]\n",
      "\tLoad of node [WS]: [5. 7.]\n",
      "\n",
      "Node 0: 1.0\n"
     ]
    },
    {
     "data": {
      "image/png": "[encoded data removed]",
      "text/plain": [
       "<Figure size 432x288 with 1 Axes>"
      ]
     },
     "metadata": {
      "needs_background": "light"
     },
     "output_type": "display_data"
    },
    {
     "name": "stdout",
     "output_type": "stream",
     "text": [
      "Node 1: 1.0\n"
     ]
    },
    {
     "data": {
      "image/png": "[encoded data removed]",
      "text/plain": [
       "<Figure size 432x288 with 1 Axes>"
      ]
     },
     "metadata": {
      "needs_background": "light"
     },
     "output_type": "display_data"
    }
   ],
   "source": [
    "N = 2 # try with n=3 <3\n",
    "size = 2\n",
    "instance = np.array([[3,1],[3,1],[3,1],[1,3],[1,3],[1,3]])\n",
    "cloud = SALP(N,instance, True)\n",
    "load = np.sum(instance)\n",
    "mean_node_load = load/N/size\n",
    "\n",
    "for n in cloud.nodes:\n",
    "    # stabilność\n",
    "    print(\"Node {}:\".format(n.identity), np.mean(n.ws)/mean_node_load)\n",
    "    plt.bar(\n",
    "        np.arange(size),\n",
    "        n.ws\n",
    "    )\n",
    "    plt.title(\"Node {}\".format(n.identity))\n",
    "    plt.hlines(mean_node_load, xmin=0-1, xmax=size, colors='r')\n",
    "    plt.show()"
   ]
  },
  {
   "cell_type": "markdown",
   "metadata": {},
   "source": [
    "# Parametry dla iteracji\n",
    "* F - ilość shardów\n",
    "* N - ilość węzłów\n",
    "* cor - poziom korelacji miedzy wektorami obciążenia\n",
    "* ro - poziom obciążenia chmury\n",
    "* size - długość wektorów obciążenia\n",
    "* parametry generatora do ustalenia"
   ]
  }
 ],
 "metadata": {
  "kernelspec": {
   "display_name": "Python 3",
   "language": "python",
   "name": "python3"
  },
  "language_info": {
   "codemirror_mode": {
    "name": "ipython",
    "version": 3
   },
   "file_extension": ".py",
   "mimetype": "text/x-python",
   "name": "python",
   "nbconvert_exporter": "python",
   "pygments_lexer": "ipython3",
   "version": "3.8.6"
  }
 },
 "nbformat": 4,
 "nbformat_minor": 4
}
