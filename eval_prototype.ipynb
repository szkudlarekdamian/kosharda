{
 "cells": [
  {
   "cell_type": "code",
   "execution_count": 1,
   "metadata": {},
   "outputs": [],
   "source": [
    "import src.generation.gamma as ga\n",
    "import src.generation.multivariate_normal as mn\n",
    "\n",
    "from src.salp.salp import SALP\n",
    "from src.salp.salp import Node\n",
    "\n",
    "import numpy as np\n",
    "import matplotlib.pyplot as plt"
   ]
  },
  {
   "cell_type": "code",
   "execution_count": 5,
   "metadata": {},
   "outputs": [],
   "source": [
    "# funkcja do produkowania wykresów obciążenia węzłów\n",
    "\n",
    "def plot_node_load(n: Node, estimated_node_load: float = None, actual_mean_node_load: float = None, node_power: float = None):\n",
    "    size = n.ws.size\n",
    "    plt.bar(\n",
    "        np.arange(size),\n",
    "        n.ws\n",
    "    )\n",
    "    plt.title(\"Node {}\".format(n.identity))\n",
    "    if estimated_node_load:\n",
    "        plt.hlines(estimated_node_load, xmin=0-1, xmax=size, colors='r')\n",
    "    if actual_mean_node_load:\n",
    "        plt.hlines(actual_mean_node_load, xmin=0-1, xmax=size, colors='g', linestyle='dashed')\n",
    "    if node_power:\n",
    "        plt.hlines(node_power, xmin=0-1, xmax=size, colors='orange')\n",
    "    plt.show()"
   ]
  },
  {
   "cell_type": "code",
   "execution_count": 21,
   "metadata": {},
   "outputs": [],
   "source": [
    "from typing import List\n",
    "\n",
    "def calculate_total_node_queueing_time(n: Node, power: float) -> float:\n",
    "    stb = np.mean(n.ws)/power\n",
    "    assert stb < 1, \"Node {} is not stable\".format(n.identity)\n",
    "    coeff = stb/(1-stb)\n",
    "    return coeff * np.sum(n.ws)\n",
    "    \n",
    "def calculate_all_nodes_queueing_time(nodes: List[Node], power: float) -> float:\n",
    "    total_ct = 0\n",
    "    for n in nodes:\n",
    "        ct = calculate_total_node_queueing_time(n, node_power)\n",
    "        total_ct += ct\n",
    "    return total_ct"
   ]
  },
  {
   "cell_type": "code",
   "execution_count": 25,
   "metadata": {},
   "outputs": [],
   "source": [
    "# TODO algorithms\n",
    "# SALP\n",
    "def salp_wrapper(N: int, load_vectors):\n",
    "    return SALP(N, load_vectors, False)\n",
    "# Best Fit\n",
    "def bf_wrapper(N: int, load_vectors):\n",
    "    return None\n",
    "# Round robin\n",
    "def rr_wrapper(N: int, load_vectors):\n",
    "    return None\n",
    "\n",
    "algorithms = [\n",
    "    ('SALP', salp_wrapper),\n",
    "    ('BF', bf_wrapper),\n",
    "    ('RR', rr_wrapper),\n",
    "]"
   ]
  },
  {
   "cell_type": "markdown",
   "metadata": {},
   "source": [
    "## Example pipeline"
   ]
  },
  {
   "cell_type": "code",
   "execution_count": 16,
   "metadata": {},
   "outputs": [
    {
     "name": "stdout",
     "output_type": "stream",
     "text": [
      "Estimated minimal node power 30.0\n",
      "Node power 37.5\n",
      "Actual mean node load 30.535181639892073\n",
      "-----------------------\n",
      "Node 0: 0.8347561211003477 1581.3394715916868\n"
     ]
    },
    {
     "data": {
      "image/png": "[encoded data removed]",
      "text/plain": [
       "<Figure size 432x288 with 1 Axes>"
      ]
     },
     "metadata": {
      "needs_background": "light"
     },
     "output_type": "display_data"
    },
    {
     "name": "stdout",
     "output_type": "stream",
     "text": [
      "Node 1: 0.831447130463926 1538.0285411176492\n"
     ]
    },
    {
     "data": {
      "image/png": "[encoded data removed]",
      "text/plain": [
       "<Figure size 432x288 with 1 Axes>"
      ]
     },
     "metadata": {
      "needs_background": "light"
     },
     "output_type": "display_data"
    },
    {
     "name": "stdout",
     "output_type": "stream",
     "text": [
      "Node 2: 0.791056337179156 1123.0960300669558\n"
     ]
    },
    {
     "data": {
      "image/png": "[encoded data removed]",
      "text/plain": [
       "<Figure size 432x288 with 1 Axes>"
      ]
     },
     "metadata": {
      "needs_background": "light"
     },
     "output_type": "display_data"
    },
    {
     "name": "stdout",
     "output_type": "stream",
     "text": [
      "Node 3: 0.799826452845058 1198.439486191584\n"
     ]
    },
    {
     "data": {
      "image/png": "[encoded data removed]",
      "text/plain": [
       "<Figure size 432x288 with 1 Axes>"
      ]
     },
     "metadata": {
      "needs_background": "light"
     },
     "output_type": "display_data"
    }
   ],
   "source": [
    "def pipeline(F: int, N: int, size: int, cor: float, ro: float, rng = (2,4)):\n",
    "    \n",
    "    generator = ga.Generator(F, size, cor, rng)\n",
    "    \n",
    "    estimated_load = generator.get_estimated_cloud_load()\n",
    "    estimated_node_load = estimated_load/size/N\n",
    "    print(\"Estimated minimal node power\", estimated_node_load)\n",
    "    \n",
    "    node_power = estimated_node_load/ro\n",
    "    print(\"Node power\", node_power)\n",
    "    \n",
    "    load_vectors = generator.generate_cloud_load_vectors()\n",
    "    actual_mean_node_load = np.sum(load_vectors)/size/N\n",
    "    print(\"Actual mean node load\", actual_mean_node_load)\n",
    "    \n",
    "    cloud = SALP(N, load_vectors, False)\n",
    "    assert len(cloud.nodes) == N\n",
    "    \n",
    "    print('-----------------------')\n",
    "    \n",
    "    for n in cloud.nodes:\n",
    "        ct = calculate_total_node_queueing_time(n, node_power)\n",
    "        print(\"Node {}:\".format(n.identity), np.mean(n.ws)/node_power, ct)\n",
    "        plot_node_load(n,estimated_node_load,actual_mean_node_load, node_power)\n",
    "    \n",
    "    \n",
    "pipeline(20, 4, 10, 0.5, 0.8)"
   ]
  },
  {
   "cell_type": "markdown",
   "metadata": {},
   "source": [
    "### Walidacja SALP"
   ]
  },
  {
   "cell_type": "code",
   "execution_count": 7,
   "metadata": {},
   "outputs": [
    {
     "name": "stdout",
     "output_type": "stream",
     "text": [
      "----------------DESCRIPTION----------------\n",
      "Shards:\n",
      "[[3 1]\n",
      " [3 1]\n",
      " [3 1]\n",
      " [1 3]\n",
      " [1 3]\n",
      " [1 3]]\n",
      "\n",
      "WTS:\n",
      "[12 12]\n",
      "\n",
      "NWTS:\n",
      "[6. 6.]\n",
      "\n",
      "LW:\n",
      "[(0, 3.1622776601683795), (1, 3.1622776601683795), (2, 3.1622776601683795), (3, 3.1622776601683795), (4, 3.1622776601683795), (5, 3.1622776601683795)]\n",
      "\n",
      "\n",
      "----------------ASSIGNMENT----------------\n",
      "Shard ID: 0\n",
      "Shard: [3 1]\n",
      "\n",
      "\tNode ID: 0\n",
      "\tDelta: 2.654329479393269\n",
      "\n",
      "\tNode ID: 1\n",
      "\tDelta: 2.654329479393269\n",
      "\n",
      "Shard ID: 1\n",
      "Shard: [3 1]\n",
      "\n",
      "\tNode ID: 0\n",
      "\tDelta: 1.8309518948453007\n",
      "\n",
      "\tNode ID: 1\n",
      "\tDelta: 2.654329479393269\n",
      "\n",
      "Shard ID: 2\n",
      "Shard: [3 1]\n",
      "\n",
      "\tNode ID: 0\n",
      "\tDelta: 1.8309518948453007\n",
      "\n",
      "\tNode ID: 1\n",
      "\tDelta: 1.8309518948453007\n",
      "\n",
      "Shard ID: 3\n",
      "Shard: [1 3]\n",
      "\n",
      "\tNode ID: 0\n",
      "\tDelta: 2.585786437626905\n",
      "\n",
      "\tNode ID: 1\n",
      "\tDelta: 3.0025247700991105\n",
      "\n",
      "Shard ID: 4\n",
      "Shard: [1 3]\n",
      "\n",
      "\tNode ID: 0\n",
      "\tDelta: 2.585786437626905\n",
      "\n",
      "\tNode ID: 1\n",
      "\tDelta: 1.4142135623730951\n",
      "\n",
      "Shard ID: 5\n",
      "Shard: [1 3]\n",
      "\n",
      "\tNode ID: 1\n",
      "\tDelta: 1.4142135623730951\n",
      "\n",
      "----------------FINAL NODES----------------\n",
      "Node: 0\n",
      "\tShards assigned [FS]: [0 2 4]\n",
      "\tLoad of node [WS]: [7. 5.]\n",
      "\n",
      "Node: 1\n",
      "\tShards assigned [FS]: [1 3 5]\n",
      "\tLoad of node [WS]: [5. 7.]\n",
      "\n",
      "Node 0: 1.0\n"
     ]
    },
    {
     "data": {
      "image/png": "[encoded data removed]",
      "text/plain": [
       "<Figure size 432x288 with 1 Axes>"
      ]
     },
     "metadata": {
      "needs_background": "light"
     },
     "output_type": "display_data"
    },
    {
     "name": "stdout",
     "output_type": "stream",
     "text": [
      "Node 1: 1.0\n"
     ]
    },
    {
     "data": {
      "image/png": "[encoded data removed]",
      "text/plain": [
       "<Figure size 432x288 with 1 Axes>"
      ]
     },
     "metadata": {
      "needs_background": "light"
     },
     "output_type": "display_data"
    }
   ],
   "source": [
    "N = 2 # try with n=3 <3\n",
    "size = 2\n",
    "instance = np.array([[3,1],[3,1],[3,1],[1,3],[1,3],[1,3]])\n",
    "cloud = SALP(N,instance, True)\n",
    "load = np.sum(instance)\n",
    "mean_node_load = load/N/size\n",
    "\n",
    "for n in cloud.nodes:\n",
    "    # stabilność\n",
    "    print(\"Node {}:\".format(n.identity), np.mean(n.ws)/mean_node_load)\n",
    "    plot_node_load(n, mean_node_load)"
   ]
  },
  {
   "cell_type": "markdown",
   "metadata": {},
   "source": [
    "# Parametry dla iteracji\n",
    "* F - ilość shardów\n",
    "* N - ilość węzłów\n",
    "* cor - poziom korelacji miedzy wektorami obciążenia\n",
    "* ro - poziom obciążenia chmury\n",
    "* size - długość wektorów obciążenia\n",
    "* repeats - ilość powtórzeń pojedynczej symulacji\n",
    "* parametry generatora do ustalenia"
   ]
  },
  {
   "cell_type": "code",
   "execution_count": 23,
   "metadata": {},
   "outputs": [],
   "source": [
    "N = 100\n",
    "F = 10*N\n",
    "cor_range = np.arange(0.0, 1.01, 0.25)\n",
    "load_range = [0.8, 0.9]\n",
    "size=100\n",
    "repeats=10\n",
    "rng = (2,4)"
   ]
  },
  {
   "cell_type": "code",
   "execution_count": 24,
   "metadata": {},
   "outputs": [
    {
     "name": "stdout",
     "output_type": "stream",
     "text": [
      "Estimated node load 60.0\n",
      "0.0 0.8 2398786.606168348\n",
      "0.0 0.8 2389870.876937694\n",
      "0.0 0.8 2419769.9188923766\n",
      "0.0 0.8 2384611.146447257\n",
      "0.0 0.8 2417663.304331718\n",
      "0.0 0.8 2393911.6205881895\n",
      "0.0 0.8 2372802.184590991\n",
      "0.0 0.8 2381484.229750675\n",
      "0.0 0.8 2413379.674832566\n",
      "0.0 0.8 2370857.3124085832\n",
      "0.0 0.9 5312246.192959625\n",
      "0.0 0.9 5445588.062547205\n",
      "0.0 0.9 5271743.667277945\n",
      "0.0 0.9 5513644.079870501\n",
      "0.0 0.9 5386713.39784813\n",
      "0.0 0.9 5473338.193618908\n",
      "0.0 0.9 5521138.445867323\n",
      "0.0 0.9 5531564.088319614\n",
      "0.0 0.9 5294436.086705284\n",
      "0.0 0.9 5484346.895773158\n",
      "Estimated node load 60.0\n",
      "0.25 0.8 2575803.771763748\n",
      "0.25 0.8 2483336.954561061\n",
      "0.25 0.8 2489722.433728414\n",
      "0.25 0.8 2492403.0863519795\n",
      "0.25 0.8 2481307.9609455164\n",
      "0.25 0.8 2516844.634250069\n",
      "0.25 0.8 2516080.0236226455\n",
      "0.25 0.8 2486643.2715104646\n",
      "0.25 0.8 2511671.1192297325\n",
      "0.25 0.8 2475976.1526179686\n",
      "0.25 0.9 5969282.372656699\n",
      "0.25 0.9 5949449.794944798\n",
      "0.25 0.9 5773560.285009433\n",
      "0.25 0.9 5889838.195345275\n",
      "0.25 0.9 5850203.799410118\n",
      "0.25 0.9 5951906.494490583\n",
      "0.25 0.9 5949309.074632792\n",
      "0.25 0.9 5982604.510064016\n",
      "0.25 0.9 6081346.428329177\n",
      "0.25 0.9 5845159.912774092\n",
      "Estimated node load 60.0\n",
      "0.5 0.8 2412933.8359820424\n",
      "0.5 0.8 2412303.4821741288\n",
      "0.5 0.8 2360196.128365903\n",
      "0.5 0.8 2410699.1752240714\n",
      "0.5 0.8 2411975.549593409\n",
      "0.5 0.8 2368591.630561143\n",
      "0.5 0.8 2409977.8923442615\n",
      "0.5 0.8 2429726.2177686663\n",
      "0.5 0.8 2389639.754703702\n",
      "0.5 0.8 2404752.4344291515\n",
      "0.5 0.9 5483632.339294796\n",
      "0.5 0.9 5723235.02979328\n",
      "0.5 0.9 5555679.603876428\n",
      "0.5 0.9 5339754.631974505\n",
      "0.5 0.9 5397501.041490775\n",
      "0.5 0.9 5229616.93687366\n",
      "0.5 0.9 5400481.946873215\n",
      "0.5 0.9 5240538.681906757\n",
      "0.5 0.9 5536383.094606166\n",
      "0.5 0.9 5436057.925155099\n",
      "Estimated node load 60.0\n",
      "0.75 0.8 2676682.3032149966\n",
      "0.75 0.8 2581348.400041367\n",
      "0.75 0.8 2623034.7178212274\n",
      "0.75 0.8 2665053.5401875377\n",
      "0.75 0.8 2654511.742953244\n",
      "0.75 0.8 2628061.139804034\n",
      "0.75 0.8 2621499.4127739235\n",
      "0.75 0.8 2640980.269972774\n",
      "0.75 0.8 2636154.982389625\n",
      "0.75 0.8 2672815.4089664295\n",
      "0.75 0.9 6495174.98392837\n",
      "0.75 0.9 6669169.118470618\n",
      "0.75 0.9 6995754.391900134\n",
      "0.75 0.9 6565968.24993835\n",
      "0.75 0.9 6919518.084069046\n",
      "0.75 0.9 6411953.439029563\n",
      "0.75 0.9 6454710.192294288\n",
      "0.75 0.9 6586294.411366904\n",
      "0.75 0.9 6904069.582063091\n",
      "0.75 0.9 6790220.172145504\n",
      "Estimated node load 60.0\n",
      "1.0 0.8 2356991.7817208054\n",
      "1.0 0.8 2354841.987043937\n",
      "1.0 0.8 2317342.504485895\n",
      "1.0 0.8 2339814.66421396\n",
      "1.0 0.8 2350666.7902736235\n",
      "1.0 0.8 2371167.980587479\n",
      "1.0 0.8 2351948.463317868\n",
      "1.0 0.8 2343598.0908893533\n",
      "1.0 0.8 2349388.6457414334\n",
      "1.0 0.8 2367390.981968818\n",
      "1.0 0.9 5166493.494995808\n",
      "1.0 0.9 5282388.727427261\n",
      "1.0 0.9 5435508.47515163\n",
      "1.0 0.9 5551727.407642492\n",
      "1.0 0.9 5357924.845811375\n",
      "1.0 0.9 5405093.627926084\n",
      "1.0 0.9 5427141.18038874\n",
      "1.0 0.9 5467605.77925806\n",
      "1.0 0.9 5354481.7343461355\n",
      "1.0 0.9 5381774.095494834\n"
     ]
    }
   ],
   "source": [
    "for cor in cor_range:\n",
    "    \n",
    "    generator = ga.Generator(F, size, cor, rng)\n",
    "    \n",
    "    estimated_load = generator.get_estimated_cloud_load()\n",
    "    estimated_node_load = estimated_load/size/N\n",
    "    print(\"Estimated node load\", estimated_node_load)\n",
    "    \n",
    "    for ro in load_range:\n",
    "        \n",
    "        node_power = estimated_node_load/ro\n",
    "        \n",
    "        for _ in range(repeats):\n",
    "            \n",
    "            load_vectors = generator.generate_cloud_load_vectors()\n",
    "#             actual_mean_node_load = np.sum(load_vectors)/size/N\n",
    "#             print(\"Actual mean node load\", actual_mean_node_load)\n",
    "            \n",
    "            # TODO test all algorithms here\n",
    "            cloud = SALP(N, load_vectors, False)\n",
    "            total_ct = calculate_all_nodes_queueing_time(cloud.nodes, node_power)\n",
    "            \n",
    "            print(cor, ro, total_ct)"
   ]
  }
 ],
 "metadata": {
  "kernelspec": {
   "display_name": "Python 3",
   "language": "python",
   "name": "python3"
  },
  "language_info": {
   "codemirror_mode": {
    "name": "ipython",
    "version": 3
   },
   "file_extension": ".py",
   "mimetype": "text/x-python",
   "name": "python",
   "nbconvert_exporter": "python",
   "pygments_lexer": "ipython3",
   "version": "3.8.6"
  }
 },
 "nbformat": 4,
 "nbformat_minor": 4
}
